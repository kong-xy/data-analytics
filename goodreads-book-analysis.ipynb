{
 "cells": [
  {
   "cell_type": "code",
   "execution_count": 1,
   "metadata": {
    "_cell_guid": "b1076dfc-b9ad-4769-8c92-a6c4dae69d19",
    "_uuid": "8f2839f25d086af736a60e9eeb907d3b93b6e0e5"
   },
   "outputs": [
    {
     "name": "stdout",
     "output_type": "stream",
     "text": [
      "['books.csv']\n"
     ]
    },
    {
     "name": "stderr",
     "output_type": "stream",
     "text": [
      "b'Skipping line 4012: expected 10 fields, saw 11\\nSkipping line 5688: expected 10 fields, saw 11\\nSkipping line 7056: expected 10 fields, saw 11\\nSkipping line 10601: expected 10 fields, saw 11\\nSkipping line 10668: expected 10 fields, saw 11\\n'\n"
     ]
    }
   ],
   "source": [
    "import numpy as np # number processing \n",
    "import pandas as pd # data processing \n",
    "import matplotlib.pyplot as plt # data visualization\n",
    "import seaborn as sns # data visualization\n",
    "import os # directory access\n",
    "\n",
    "# return list of files in directory 'input'\n",
    "print(os.listdir('../input')) \n",
    "# load dataset\n",
    "df = pd.read_csv('../input/books.csv', error_bad_lines=False) "
   ]
  },
  {
   "cell_type": "code",
   "execution_count": 2,
   "metadata": {
    "_cell_guid": "79c7e3d0-c299-4dcb-8224-4455121ee9b0",
    "_uuid": "d629ff2d2480ee46fbb7e2d37f6b5fab8052498a"
   },
   "outputs": [
    {
     "data": {
      "text/plain": [
       "(13714, 10)"
      ]
     },
     "execution_count": 2,
     "metadata": {},
     "output_type": "execute_result"
    }
   ],
   "source": [
    "# return number of rows and columns\n",
    "df.shape "
   ]
  },
  {
   "cell_type": "code",
   "execution_count": 3,
   "metadata": {},
   "outputs": [
    {
     "data": {
      "text/plain": [
       "bookID                13714\n",
       "title                 13714\n",
       "authors               13714\n",
       "average_rating        13714\n",
       "isbn                  13714\n",
       "isbn13                13714\n",
       "language_code         13714\n",
       "# num_pages           13714\n",
       "ratings_count         13714\n",
       "text_reviews_count    13714\n",
       "dtype: int64"
      ]
     },
     "execution_count": 3,
     "metadata": {},
     "output_type": "execute_result"
    }
   ],
   "source": [
    "# check for missing values\n",
    "df.count()"
   ]
  },
  {
   "cell_type": "markdown",
   "metadata": {},
   "source": [
    "There are no missing values in the dataset."
   ]
  },
  {
   "cell_type": "code",
   "execution_count": 4,
   "metadata": {},
   "outputs": [
    {
     "data": {
      "text/plain": [
       "bookID                  int64\n",
       "title                  object\n",
       "authors                object\n",
       "average_rating        float64\n",
       "isbn                   object\n",
       "isbn13                  int64\n",
       "language_code          object\n",
       "# num_pages             int64\n",
       "ratings_count           int64\n",
       "text_reviews_count      int64\n",
       "dtype: object"
      ]
     },
     "execution_count": 4,
     "metadata": {},
     "output_type": "execute_result"
    }
   ],
   "source": [
    "# check each column's data type\n",
    "df.dtypes"
   ]
  },
  {
   "cell_type": "code",
   "execution_count": 5,
   "metadata": {},
   "outputs": [
    {
     "data": {
      "text/html": [
       "<div>\n",
       "<style scoped>\n",
       "    .dataframe tbody tr th:only-of-type {\n",
       "        vertical-align: middle;\n",
       "    }\n",
       "\n",
       "    .dataframe tbody tr th {\n",
       "        vertical-align: top;\n",
       "    }\n",
       "\n",
       "    .dataframe thead th {\n",
       "        text-align: right;\n",
       "    }\n",
       "</style>\n",
       "<table border=\"1\" class=\"dataframe\">\n",
       "  <thead>\n",
       "    <tr style=\"text-align: right;\">\n",
       "      <th></th>\n",
       "      <th>bookID</th>\n",
       "      <th>average_rating</th>\n",
       "      <th>isbn13</th>\n",
       "      <th># num_pages</th>\n",
       "      <th>ratings_count</th>\n",
       "      <th>text_reviews_count</th>\n",
       "    </tr>\n",
       "  </thead>\n",
       "  <tbody>\n",
       "    <tr>\n",
       "      <th>count</th>\n",
       "      <td>13714.000000</td>\n",
       "      <td>13714.000000</td>\n",
       "      <td>1.371400e+04</td>\n",
       "      <td>13714.000000</td>\n",
       "      <td>1.371400e+04</td>\n",
       "      <td>13714.000000</td>\n",
       "    </tr>\n",
       "    <tr>\n",
       "      <th>mean</th>\n",
       "      <td>22159.859195</td>\n",
       "      <td>3.930620</td>\n",
       "      <td>9.764017e+12</td>\n",
       "      <td>342.402727</td>\n",
       "      <td>1.776540e+04</td>\n",
       "      <td>533.632128</td>\n",
       "    </tr>\n",
       "    <tr>\n",
       "      <th>std</th>\n",
       "      <td>13700.926816</td>\n",
       "      <td>0.357893</td>\n",
       "      <td>3.987679e+11</td>\n",
       "      <td>252.650165</td>\n",
       "      <td>1.129572e+05</td>\n",
       "      <td>2529.006691</td>\n",
       "    </tr>\n",
       "    <tr>\n",
       "      <th>min</th>\n",
       "      <td>1.000000</td>\n",
       "      <td>0.000000</td>\n",
       "      <td>8.987060e+09</td>\n",
       "      <td>0.000000</td>\n",
       "      <td>0.000000e+00</td>\n",
       "      <td>0.000000</td>\n",
       "    </tr>\n",
       "    <tr>\n",
       "      <th>25%</th>\n",
       "      <td>10619.250000</td>\n",
       "      <td>3.770000</td>\n",
       "      <td>9.780345e+12</td>\n",
       "      <td>196.000000</td>\n",
       "      <td>8.300000e+01</td>\n",
       "      <td>7.000000</td>\n",
       "    </tr>\n",
       "    <tr>\n",
       "      <th>50%</th>\n",
       "      <td>21321.500000</td>\n",
       "      <td>3.960000</td>\n",
       "      <td>9.780613e+12</td>\n",
       "      <td>301.000000</td>\n",
       "      <td>6.305000e+02</td>\n",
       "      <td>40.000000</td>\n",
       "    </tr>\n",
       "    <tr>\n",
       "      <th>75%</th>\n",
       "      <td>33311.750000</td>\n",
       "      <td>4.130000</td>\n",
       "      <td>9.780940e+12</td>\n",
       "      <td>421.000000</td>\n",
       "      <td>4.742250e+03</td>\n",
       "      <td>222.000000</td>\n",
       "    </tr>\n",
       "    <tr>\n",
       "      <th>max</th>\n",
       "      <td>47709.000000</td>\n",
       "      <td>5.000000</td>\n",
       "      <td>9.790008e+12</td>\n",
       "      <td>6576.000000</td>\n",
       "      <td>5.629932e+06</td>\n",
       "      <td>93619.000000</td>\n",
       "    </tr>\n",
       "  </tbody>\n",
       "</table>\n",
       "</div>"
      ],
      "text/plain": [
       "             bookID  average_rating        isbn13   # num_pages  \\\n",
       "count  13714.000000    13714.000000  1.371400e+04  13714.000000   \n",
       "mean   22159.859195        3.930620  9.764017e+12    342.402727   \n",
       "std    13700.926816        0.357893  3.987679e+11    252.650165   \n",
       "min        1.000000        0.000000  8.987060e+09      0.000000   \n",
       "25%    10619.250000        3.770000  9.780345e+12    196.000000   \n",
       "50%    21321.500000        3.960000  9.780613e+12    301.000000   \n",
       "75%    33311.750000        4.130000  9.780940e+12    421.000000   \n",
       "max    47709.000000        5.000000  9.790008e+12   6576.000000   \n",
       "\n",
       "       ratings_count  text_reviews_count  \n",
       "count   1.371400e+04        13714.000000  \n",
       "mean    1.776540e+04          533.632128  \n",
       "std     1.129572e+05         2529.006691  \n",
       "min     0.000000e+00            0.000000  \n",
       "25%     8.300000e+01            7.000000  \n",
       "50%     6.305000e+02           40.000000  \n",
       "75%     4.742250e+03          222.000000  \n",
       "max     5.629932e+06        93619.000000  "
      ]
     },
     "execution_count": 5,
     "metadata": {},
     "output_type": "execute_result"
    }
   ],
   "source": [
    "# summary of statistics\n",
    "df.describe()"
   ]
  },
  {
   "cell_type": "code",
   "execution_count": 6,
   "metadata": {},
   "outputs": [
    {
     "data": {
      "text/html": [
       "<div>\n",
       "<style scoped>\n",
       "    .dataframe tbody tr th:only-of-type {\n",
       "        vertical-align: middle;\n",
       "    }\n",
       "\n",
       "    .dataframe tbody tr th {\n",
       "        vertical-align: top;\n",
       "    }\n",
       "\n",
       "    .dataframe thead th {\n",
       "        text-align: right;\n",
       "    }\n",
       "</style>\n",
       "<table border=\"1\" class=\"dataframe\">\n",
       "  <thead>\n",
       "    <tr style=\"text-align: right;\">\n",
       "      <th></th>\n",
       "      <th>bookID</th>\n",
       "      <th>title</th>\n",
       "      <th>authors</th>\n",
       "      <th>average_rating</th>\n",
       "      <th>isbn</th>\n",
       "      <th>isbn13</th>\n",
       "      <th>language_code</th>\n",
       "      <th># num_pages</th>\n",
       "      <th>ratings_count</th>\n",
       "      <th>text_reviews_count</th>\n",
       "    </tr>\n",
       "  </thead>\n",
       "  <tbody>\n",
       "    <tr>\n",
       "      <th>0</th>\n",
       "      <td>1</td>\n",
       "      <td>Harry Potter and the Half-Blood Prince (Harry ...</td>\n",
       "      <td>J.K. Rowling-Mary GrandPré</td>\n",
       "      <td>4.56</td>\n",
       "      <td>0439785960</td>\n",
       "      <td>9780439785969</td>\n",
       "      <td>eng</td>\n",
       "      <td>652</td>\n",
       "      <td>1944099</td>\n",
       "      <td>26249</td>\n",
       "    </tr>\n",
       "    <tr>\n",
       "      <th>1</th>\n",
       "      <td>2</td>\n",
       "      <td>Harry Potter and the Order of the Phoenix (Har...</td>\n",
       "      <td>J.K. Rowling-Mary GrandPré</td>\n",
       "      <td>4.49</td>\n",
       "      <td>0439358078</td>\n",
       "      <td>9780439358071</td>\n",
       "      <td>eng</td>\n",
       "      <td>870</td>\n",
       "      <td>1996446</td>\n",
       "      <td>27613</td>\n",
       "    </tr>\n",
       "    <tr>\n",
       "      <th>2</th>\n",
       "      <td>3</td>\n",
       "      <td>Harry Potter and the Sorcerer's Stone (Harry P...</td>\n",
       "      <td>J.K. Rowling-Mary GrandPré</td>\n",
       "      <td>4.47</td>\n",
       "      <td>0439554934</td>\n",
       "      <td>9780439554930</td>\n",
       "      <td>eng</td>\n",
       "      <td>320</td>\n",
       "      <td>5629932</td>\n",
       "      <td>70390</td>\n",
       "    </tr>\n",
       "    <tr>\n",
       "      <th>3</th>\n",
       "      <td>4</td>\n",
       "      <td>Harry Potter and the Chamber of Secrets (Harry...</td>\n",
       "      <td>J.K. Rowling</td>\n",
       "      <td>4.41</td>\n",
       "      <td>0439554896</td>\n",
       "      <td>9780439554893</td>\n",
       "      <td>eng</td>\n",
       "      <td>352</td>\n",
       "      <td>6267</td>\n",
       "      <td>272</td>\n",
       "    </tr>\n",
       "    <tr>\n",
       "      <th>4</th>\n",
       "      <td>5</td>\n",
       "      <td>Harry Potter and the Prisoner of Azkaban (Harr...</td>\n",
       "      <td>J.K. Rowling-Mary GrandPré</td>\n",
       "      <td>4.55</td>\n",
       "      <td>043965548X</td>\n",
       "      <td>9780439655484</td>\n",
       "      <td>eng</td>\n",
       "      <td>435</td>\n",
       "      <td>2149872</td>\n",
       "      <td>33964</td>\n",
       "    </tr>\n",
       "  </tbody>\n",
       "</table>\n",
       "</div>"
      ],
      "text/plain": [
       "   bookID                                              title  \\\n",
       "0       1  Harry Potter and the Half-Blood Prince (Harry ...   \n",
       "1       2  Harry Potter and the Order of the Phoenix (Har...   \n",
       "2       3  Harry Potter and the Sorcerer's Stone (Harry P...   \n",
       "3       4  Harry Potter and the Chamber of Secrets (Harry...   \n",
       "4       5  Harry Potter and the Prisoner of Azkaban (Harr...   \n",
       "\n",
       "                      authors  average_rating        isbn         isbn13  \\\n",
       "0  J.K. Rowling-Mary GrandPré            4.56  0439785960  9780439785969   \n",
       "1  J.K. Rowling-Mary GrandPré            4.49  0439358078  9780439358071   \n",
       "2  J.K. Rowling-Mary GrandPré            4.47  0439554934  9780439554930   \n",
       "3                J.K. Rowling            4.41  0439554896  9780439554893   \n",
       "4  J.K. Rowling-Mary GrandPré            4.55  043965548X  9780439655484   \n",
       "\n",
       "  language_code  # num_pages  ratings_count  text_reviews_count  \n",
       "0           eng          652        1944099               26249  \n",
       "1           eng          870        1996446               27613  \n",
       "2           eng          320        5629932               70390  \n",
       "3           eng          352           6267                 272  \n",
       "4           eng          435        2149872               33964  "
      ]
     },
     "execution_count": 6,
     "metadata": {},
     "output_type": "execute_result"
    }
   ],
   "source": [
    "# return first 5 rows\n",
    "df.head() "
   ]
  },
  {
   "cell_type": "code",
   "execution_count": 7,
   "metadata": {},
   "outputs": [
    {
     "data": {
      "text/plain": [
       "Index(['bookID', 'title', 'authors', 'avg_rating', 'isbn', 'isbn13',\n",
       "       'lang_code', 'num_pages', 'ratings_count', 'text_reviews_count'],\n",
       "      dtype='object')"
      ]
     },
     "execution_count": 7,
     "metadata": {},
     "output_type": "execute_result"
    }
   ],
   "source": [
    "# rename columns\n",
    "df.rename(columns={'average_rating':'avg_rating',\n",
    "                   '# num_pages':'num_pages',\n",
    "                   'language_code':'lang_code'},inplace=True) \n",
    "df.columns"
   ]
  },
  {
   "cell_type": "markdown",
   "metadata": {},
   "source": [
    "## Analyzing Books By Language"
   ]
  },
  {
   "cell_type": "code",
   "execution_count": 8,
   "metadata": {},
   "outputs": [
    {
     "name": "stdout",
     "output_type": "stream",
     "text": [
      "['eng' 'en-US' 'spa' 'fre' 'en-GB' 'mul' 'ger' 'ara' 'por' 'grc' 'en-CA'\n",
      " 'enm' 'jpn' 'dan' 'zho' 'nl' 'ita' 'lat' 'srp' 'rus' 'tur' 'msa' 'swe'\n",
      " 'glg' 'cat' 'wel' 'heb' 'nor' 'gla' 'ale']\n",
      "\n",
      " Total language codes: 30\n"
     ]
    }
   ],
   "source": [
    "# find out what and how many language codes are there\n",
    "print(df['lang_code'].unique())\n",
    "print('\\n Total language codes:', len(df['lang_code'].unique()))"
   ]
  },
  {
   "cell_type": "code",
   "execution_count": 9,
   "metadata": {},
   "outputs": [
    {
     "data": {
      "text/plain": [
       "Text(0.5, 0, 'Number of Books')"
      ]
     },
     "execution_count": 9,
     "metadata": {},
     "output_type": "execute_result"
    },
    {
     "data": {
      "image/png": "[encoded data removed]",
      "text/plain": [
       "<Figure size 1080x432 with 1 Axes>"
      ]
     },
     "metadata": {
      "needs_background": "light"
     },
     "output_type": "display_data"
    }
   ],
   "source": [
    "# top 10 languages for books\n",
    "langs = df['lang_code'].value_counts().head(10)\n",
    "plt.figure(figsize=(15,6))\n",
    "sns.barplot(x=langs, y=langs.index) # horizontal bar plot\n",
    "sns.despine() # remove line to the top and right of chart\n",
    "sns.despine(left=True, bottom=True) # remove line to the bottom and left of chart\n",
    "plt.title('Top 10 Languages By Number of Books Written', fontsize=20, fontweight='bold')\n",
    "plt.xlabel('Number of Books', fontsize=12, fontstyle='italic') "
   ]
  },
  {
   "cell_type": "markdown",
   "metadata": {},
   "source": [
    "Unsurprisingly, English is the most common language books are written in. The different variants of English, such as American English and British English, are treated as separate language categories. To get a better idea of how dominant the English language is, we'll combine all the different variants into one."
   ]
  },
  {
   "cell_type": "code",
   "execution_count": 10,
   "metadata": {},
   "outputs": [
    {
     "data": {
      "text/plain": [
       "(-1.2199998115274926,\n",
       " 1.1127149840344506,\n",
       " -1.1100472747955759,\n",
       " 1.1071606823815054)"
      ]
     },
     "execution_count": 10,
     "metadata": {},
     "output_type": "execute_result"
    },
    {
     "data": {
      "image/png": "[encoded data removed]",
      "text/plain": [
       "<Figure size 432x288 with 1 Axes>"
      ]
     },
     "metadata": {},
     "output_type": "display_data"
    }
   ],
   "source": [
    "# books written in all variants of English\n",
    "eng_books = df[(df['lang_code'] == 'eng') | (df['lang_code'] == 'en-US') | (df['lang_code'] == 'en-GB') \n",
    "               | (df['lang_code'] == 'en-CA')]\n",
    "\n",
    "# plot a pie chart to show the percentage of English books out of all total books\n",
    "sizes = [eng_books.shape[0], df.shape[0]] \n",
    "labels = ['English', 'Other Languages']\n",
    "colors = ['lightblue', 'lightcoral']\n",
    "explode=(0.1, 0) # explode the first slice of the pie\n",
    "plt.pie(sizes, labels=labels, colors=colors, explode=explode, textprops=dict(fontsize=16), autopct='%1.0f%%', shadow=True, startangle=90)\n",
    "plt.title('English vs Other Languages', fontsize=20, fontweight='bold')\n",
    "plt.axis('equal')"
   ]
  },
  {
   "cell_type": "markdown",
   "metadata": {},
   "source": [
    "From the pie chart we can see that books written in English (any variant) comprise 48% of the total."
   ]
  },
  {
   "cell_type": "markdown",
   "metadata": {},
   "source": [
    "## Analyzing Books By Rating"
   ]
  },
  {
   "cell_type": "code",
   "execution_count": 11,
   "metadata": {},
   "outputs": [
    {
     "data": {
      "image/png": "[encoded data removed]",
      "text/plain": [
       "<Figure size 432x288 with 1 Axes>"
      ]
     },
     "metadata": {
      "needs_background": "light"
     },
     "output_type": "display_data"
    }
   ],
   "source": [
    "# plot books against average rating\n",
    "sns.distplot(a=df['avg_rating'], kde=False)\n",
    "sns.despine()\n",
    "sns.despine(left=True, bottom=True)"
   ]
  },
  {
   "cell_type": "markdown",
   "metadata": {},
   "source": [
    "The majority of books appear to have average ratings between 3.5 to 4.5, which would seem to indicate favourable quality overall. However, the above histogram does not yet factor in the number of ratings and text reviews, which are far more telling indicators of a book's true quality. "
   ]
  },
  {
   "cell_type": "code",
   "execution_count": 12,
   "metadata": {},
   "outputs": [
    {
     "data": {
      "image/png": "[encoded data removed]",
      "text/plain": [
       "<Figure size 432x288 with 1 Axes>"
      ]
     },
     "metadata": {},
     "output_type": "display_data"
    }
   ],
   "source": [
    "# correlation between average rating, ratings count, and text reviews count\n",
    "sns.set_style('whitegrid')\n",
    "sns.scatterplot(x=df['avg_rating'], y=df['ratings_count'], hue=df['text_reviews_count'])\n",
    "sns.despine()\n",
    "sns.despine(left=True, bottom=True)"
   ]
  },
  {
   "cell_type": "markdown",
   "metadata": {},
   "source": [
    "The scatterplot reveals that some books which, despite not having been rated yet, have an average rating higher than zero. This points to inaccuracies in the dataset. There is still a large proportion of books with a ratings count that is at least in the hundreds, and the average rating for these fall within the 3.5 to 4.5 range, which bodes well for overall quality. Books with higher ratings count tend to have more text reviews; this makes sense as the more readers a books has, the larger the pool of potential raters and reviewers. \n",
    "\n",
    "Two outliers can be detected immediately in the plot; both have a ratings count of above 4 million, while the next closest ratings count are around the 2.5 million mark."
   ]
  },
  {
   "cell_type": "code",
   "execution_count": 13,
   "metadata": {},
   "outputs": [
    {
     "data": {
      "text/html": [
       "<div>\n",
       "<style scoped>\n",
       "    .dataframe tbody tr th:only-of-type {\n",
       "        vertical-align: middle;\n",
       "    }\n",
       "\n",
       "    .dataframe tbody tr th {\n",
       "        vertical-align: top;\n",
       "    }\n",
       "\n",
       "    .dataframe thead th {\n",
       "        text-align: right;\n",
       "    }\n",
       "</style>\n",
       "<table border=\"1\" class=\"dataframe\">\n",
       "  <thead>\n",
       "    <tr style=\"text-align: right;\">\n",
       "      <th></th>\n",
       "      <th>bookID</th>\n",
       "      <th>title</th>\n",
       "      <th>authors</th>\n",
       "      <th>avg_rating</th>\n",
       "      <th>isbn</th>\n",
       "      <th>isbn13</th>\n",
       "      <th>lang_code</th>\n",
       "      <th>num_pages</th>\n",
       "      <th>ratings_count</th>\n",
       "      <th>text_reviews_count</th>\n",
       "    </tr>\n",
       "  </thead>\n",
       "  <tbody>\n",
       "    <tr>\n",
       "      <th>2</th>\n",
       "      <td>3</td>\n",
       "      <td>Harry Potter and the Sorcerer's Stone (Harry P...</td>\n",
       "      <td>J.K. Rowling-Mary GrandPré</td>\n",
       "      <td>4.47</td>\n",
       "      <td>0439554934</td>\n",
       "      <td>9780439554930</td>\n",
       "      <td>eng</td>\n",
       "      <td>320</td>\n",
       "      <td>5629932</td>\n",
       "      <td>70390</td>\n",
       "    </tr>\n",
       "    <tr>\n",
       "      <th>12243</th>\n",
       "      <td>41865</td>\n",
       "      <td>Twilight (Twilight  #1)</td>\n",
       "      <td>Stephenie Meyer</td>\n",
       "      <td>3.59</td>\n",
       "      <td>0316015849</td>\n",
       "      <td>9780316015844</td>\n",
       "      <td>eng</td>\n",
       "      <td>498</td>\n",
       "      <td>4367341</td>\n",
       "      <td>93619</td>\n",
       "    </tr>\n",
       "  </tbody>\n",
       "</table>\n",
       "</div>"
      ],
      "text/plain": [
       "       bookID                                              title  \\\n",
       "2           3  Harry Potter and the Sorcerer's Stone (Harry P...   \n",
       "12243   41865                            Twilight (Twilight  #1)   \n",
       "\n",
       "                          authors  avg_rating        isbn         isbn13  \\\n",
       "2      J.K. Rowling-Mary GrandPré        4.47  0439554934  9780439554930   \n",
       "12243             Stephenie Meyer        3.59  0316015849  9780316015844   \n",
       "\n",
       "      lang_code  num_pages  ratings_count  text_reviews_count  \n",
       "2           eng        320        5629932               70390  \n",
       "12243       eng        498        4367341               93619  "
      ]
     },
     "execution_count": 13,
     "metadata": {},
     "output_type": "execute_result"
    }
   ],
   "source": [
    "# find outliers\n",
    "df[df['ratings_count'] > 4000000]"
   ]
  },
  {
   "cell_type": "markdown",
   "metadata": {},
   "source": [
    "Both outliers turn out to be titles from phenomenally bestselling series, so that accounts for the high readership. It is noteworthy that both books also happen to be the first instalment in their respective series, with none of their sequels coming close in terms of readership numbers. It is possible that the hype surrounding the series led people to read the first book before deciding they didn't find it engaging enough to continue on to the second. A second hypothesis is that the sequels are not included in the dataset. "
   ]
  },
  {
   "cell_type": "code",
   "execution_count": 14,
   "metadata": {},
   "outputs": [
    {
     "data": {
      "text/html": [
       "<div>\n",
       "<style scoped>\n",
       "    .dataframe tbody tr th:only-of-type {\n",
       "        vertical-align: middle;\n",
       "    }\n",
       "\n",
       "    .dataframe tbody tr th {\n",
       "        vertical-align: top;\n",
       "    }\n",
       "\n",
       "    .dataframe thead th {\n",
       "        text-align: right;\n",
       "    }\n",
       "</style>\n",
       "<table border=\"1\" class=\"dataframe\">\n",
       "  <thead>\n",
       "    <tr style=\"text-align: right;\">\n",
       "      <th></th>\n",
       "      <th>bookID</th>\n",
       "      <th>title</th>\n",
       "      <th>authors</th>\n",
       "      <th>avg_rating</th>\n",
       "      <th>isbn</th>\n",
       "      <th>isbn13</th>\n",
       "      <th>lang_code</th>\n",
       "      <th>num_pages</th>\n",
       "      <th>ratings_count</th>\n",
       "      <th>text_reviews_count</th>\n",
       "    </tr>\n",
       "  </thead>\n",
       "  <tbody>\n",
       "    <tr>\n",
       "      <th>12243</th>\n",
       "      <td>41865</td>\n",
       "      <td>Twilight (Twilight  #1)</td>\n",
       "      <td>Stephenie Meyer</td>\n",
       "      <td>3.59</td>\n",
       "      <td>0316015849</td>\n",
       "      <td>9780316015844</td>\n",
       "      <td>eng</td>\n",
       "      <td>498</td>\n",
       "      <td>4367341</td>\n",
       "      <td>93619</td>\n",
       "    </tr>\n",
       "    <tr>\n",
       "      <th>3938</th>\n",
       "      <td>12024</td>\n",
       "      <td>Twilight (Twilight  #1)</td>\n",
       "      <td>Stephenie Meyer</td>\n",
       "      <td>3.59</td>\n",
       "      <td>031605898X</td>\n",
       "      <td>9780316058988</td>\n",
       "      <td>eng</td>\n",
       "      <td>544</td>\n",
       "      <td>2392</td>\n",
       "      <td>544</td>\n",
       "    </tr>\n",
       "  </tbody>\n",
       "</table>\n",
       "</div>"
      ],
      "text/plain": [
       "       bookID                    title          authors  avg_rating  \\\n",
       "12243   41865  Twilight (Twilight  #1)  Stephenie Meyer        3.59   \n",
       "3938    12024  Twilight (Twilight  #1)  Stephenie Meyer        3.59   \n",
       "\n",
       "             isbn         isbn13 lang_code  num_pages  ratings_count  \\\n",
       "12243  0316015849  9780316015844       eng        498        4367341   \n",
       "3938   031605898X  9780316058988       eng        544           2392   \n",
       "\n",
       "       text_reviews_count  \n",
       "12243               93619  \n",
       "3938                  544  "
      ]
     },
     "execution_count": 14,
     "metadata": {},
     "output_type": "execute_result"
    }
   ],
   "source": [
    "# find Twilight sequels\n",
    "df[df['authors'] == 'Stephenie Meyer'].sort_values(['ratings_count', 'text_reviews_count'], ascending=False)"
   ]
  },
  {
   "cell_type": "markdown",
   "metadata": {},
   "source": [
    "With the Twilight series, it is the second hypothesis that holds true."
   ]
  },
  {
   "cell_type": "code",
   "execution_count": 15,
   "metadata": {},
   "outputs": [
    {
     "data": {
      "text/html": [
       "<div>\n",
       "<style scoped>\n",
       "    .dataframe tbody tr th:only-of-type {\n",
       "        vertical-align: middle;\n",
       "    }\n",
       "\n",
       "    .dataframe tbody tr th {\n",
       "        vertical-align: top;\n",
       "    }\n",
       "\n",
       "    .dataframe thead th {\n",
       "        text-align: right;\n",
       "    }\n",
       "</style>\n",
       "<table border=\"1\" class=\"dataframe\">\n",
       "  <thead>\n",
       "    <tr style=\"text-align: right;\">\n",
       "      <th></th>\n",
       "      <th>bookID</th>\n",
       "      <th>title</th>\n",
       "      <th>authors</th>\n",
       "      <th>avg_rating</th>\n",
       "      <th>isbn</th>\n",
       "      <th>isbn13</th>\n",
       "      <th>lang_code</th>\n",
       "      <th>num_pages</th>\n",
       "      <th>ratings_count</th>\n",
       "      <th>text_reviews_count</th>\n",
       "    </tr>\n",
       "  </thead>\n",
       "  <tbody>\n",
       "    <tr>\n",
       "      <th>2</th>\n",
       "      <td>3</td>\n",
       "      <td>Harry Potter and the Sorcerer's Stone (Harry P...</td>\n",
       "      <td>J.K. Rowling-Mary GrandPré</td>\n",
       "      <td>4.47</td>\n",
       "      <td>0439554934</td>\n",
       "      <td>9780439554930</td>\n",
       "      <td>eng</td>\n",
       "      <td>320</td>\n",
       "      <td>5629932</td>\n",
       "      <td>70390</td>\n",
       "    </tr>\n",
       "    <tr>\n",
       "      <th>4</th>\n",
       "      <td>5</td>\n",
       "      <td>Harry Potter and the Prisoner of Azkaban (Harr...</td>\n",
       "      <td>J.K. Rowling-Mary GrandPré</td>\n",
       "      <td>4.55</td>\n",
       "      <td>043965548X</td>\n",
       "      <td>9780439655484</td>\n",
       "      <td>eng</td>\n",
       "      <td>435</td>\n",
       "      <td>2149872</td>\n",
       "      <td>33964</td>\n",
       "    </tr>\n",
       "    <tr>\n",
       "      <th>5300</th>\n",
       "      <td>15881</td>\n",
       "      <td>Harry Potter and the Chamber of Secrets (Harry...</td>\n",
       "      <td>J.K. Rowling-Mary GrandPré</td>\n",
       "      <td>4.41</td>\n",
       "      <td>0439064864</td>\n",
       "      <td>9780439064866</td>\n",
       "      <td>eng</td>\n",
       "      <td>341</td>\n",
       "      <td>2115562</td>\n",
       "      <td>32694</td>\n",
       "    </tr>\n",
       "    <tr>\n",
       "      <th>1</th>\n",
       "      <td>2</td>\n",
       "      <td>Harry Potter and the Order of the Phoenix (Har...</td>\n",
       "      <td>J.K. Rowling-Mary GrandPré</td>\n",
       "      <td>4.49</td>\n",
       "      <td>0439358078</td>\n",
       "      <td>9780439358071</td>\n",
       "      <td>eng</td>\n",
       "      <td>870</td>\n",
       "      <td>1996446</td>\n",
       "      <td>27613</td>\n",
       "    </tr>\n",
       "    <tr>\n",
       "      <th>0</th>\n",
       "      <td>1</td>\n",
       "      <td>Harry Potter and the Half-Blood Prince (Harry ...</td>\n",
       "      <td>J.K. Rowling-Mary GrandPré</td>\n",
       "      <td>4.56</td>\n",
       "      <td>0439785960</td>\n",
       "      <td>9780439785969</td>\n",
       "      <td>eng</td>\n",
       "      <td>652</td>\n",
       "      <td>1944099</td>\n",
       "      <td>26249</td>\n",
       "    </tr>\n",
       "    <tr>\n",
       "      <th>5</th>\n",
       "      <td>8</td>\n",
       "      <td>Harry Potter Boxed Set  Books 1-5 (Harry Potte...</td>\n",
       "      <td>J.K. Rowling-Mary GrandPré</td>\n",
       "      <td>4.78</td>\n",
       "      <td>0439682584</td>\n",
       "      <td>9780439682589</td>\n",
       "      <td>eng</td>\n",
       "      <td>2690</td>\n",
       "      <td>38872</td>\n",
       "      <td>154</td>\n",
       "    </tr>\n",
       "    <tr>\n",
       "      <th>7</th>\n",
       "      <td>10</td>\n",
       "      <td>Harry Potter Collection (Harry Potter  #1-6)</td>\n",
       "      <td>J.K. Rowling</td>\n",
       "      <td>4.73</td>\n",
       "      <td>0439827604</td>\n",
       "      <td>9780439827607</td>\n",
       "      <td>eng</td>\n",
       "      <td>3342</td>\n",
       "      <td>27410</td>\n",
       "      <td>820</td>\n",
       "    </tr>\n",
       "    <tr>\n",
       "      <th>12663</th>\n",
       "      <td>43509</td>\n",
       "      <td>Harry Potter and the Goblet of Fire (Harry Pot...</td>\n",
       "      <td>J.K. Rowling</td>\n",
       "      <td>4.55</td>\n",
       "      <td>074754624X</td>\n",
       "      <td>9780747546245</td>\n",
       "      <td>eng</td>\n",
       "      <td>636</td>\n",
       "      <td>18097</td>\n",
       "      <td>860</td>\n",
       "    </tr>\n",
       "    <tr>\n",
       "      <th>693</th>\n",
       "      <td>2002</td>\n",
       "      <td>Harry Potter Schoolbooks Box Set: Two Classic ...</td>\n",
       "      <td>J.K. Rowling</td>\n",
       "      <td>4.40</td>\n",
       "      <td>043932162X</td>\n",
       "      <td>9780439321624</td>\n",
       "      <td>eng</td>\n",
       "      <td>240</td>\n",
       "      <td>11459</td>\n",
       "      <td>143</td>\n",
       "    </tr>\n",
       "    <tr>\n",
       "      <th>3</th>\n",
       "      <td>4</td>\n",
       "      <td>Harry Potter and the Chamber of Secrets (Harry...</td>\n",
       "      <td>J.K. Rowling</td>\n",
       "      <td>4.41</td>\n",
       "      <td>0439554896</td>\n",
       "      <td>9780439554893</td>\n",
       "      <td>eng</td>\n",
       "      <td>352</td>\n",
       "      <td>6267</td>\n",
       "      <td>272</td>\n",
       "    </tr>\n",
       "    <tr>\n",
       "      <th>13637</th>\n",
       "      <td>47532</td>\n",
       "      <td>Harry Potter y el prisionero de Azkaban (Harry...</td>\n",
       "      <td>J.K. Rowling</td>\n",
       "      <td>4.55</td>\n",
       "      <td>8478886559</td>\n",
       "      <td>9788478886555</td>\n",
       "      <td>spa</td>\n",
       "      <td>359</td>\n",
       "      <td>5582</td>\n",
       "      <td>469</td>\n",
       "    </tr>\n",
       "    <tr>\n",
       "      <th>5296</th>\n",
       "      <td>15876</td>\n",
       "      <td>Harry Potter y la Orden del Fénix (Harry Potte...</td>\n",
       "      <td>J.K. Rowling</td>\n",
       "      <td>4.49</td>\n",
       "      <td>8478888845</td>\n",
       "      <td>9788478888849</td>\n",
       "      <td>spa</td>\n",
       "      <td>893</td>\n",
       "      <td>4893</td>\n",
       "      <td>397</td>\n",
       "    </tr>\n",
       "    <tr>\n",
       "      <th>1429</th>\n",
       "      <td>4256</td>\n",
       "      <td>Harry Potter and the Prisoner of Azkaban (Harr...</td>\n",
       "      <td>J.K. Rowling</td>\n",
       "      <td>4.55</td>\n",
       "      <td>074757362X</td>\n",
       "      <td>9780747573623</td>\n",
       "      <td>eng</td>\n",
       "      <td>480</td>\n",
       "      <td>3116</td>\n",
       "      <td>147</td>\n",
       "    </tr>\n",
       "    <tr>\n",
       "      <th>695</th>\n",
       "      <td>2005</td>\n",
       "      <td>Harry Potter and the Half-Blood Prince (Harry ...</td>\n",
       "      <td>J.K. Rowling</td>\n",
       "      <td>4.56</td>\n",
       "      <td>0747584664</td>\n",
       "      <td>9780747584667</td>\n",
       "      <td>eng</td>\n",
       "      <td>768</td>\n",
       "      <td>1173</td>\n",
       "      <td>72</td>\n",
       "    </tr>\n",
       "    <tr>\n",
       "      <th>10519</th>\n",
       "      <td>34258</td>\n",
       "      <td>Harry Potter y la Orden del Fénix (Harry Potte...</td>\n",
       "      <td>J.K. Rowling</td>\n",
       "      <td>4.49</td>\n",
       "      <td>8478887423</td>\n",
       "      <td>9788478887422</td>\n",
       "      <td>spa</td>\n",
       "      <td>896</td>\n",
       "      <td>953</td>\n",
       "      <td>51</td>\n",
       "    </tr>\n",
       "    <tr>\n",
       "      <th>13634</th>\n",
       "      <td>47523</td>\n",
       "      <td>Harry Potter Boxed Set (Harry Potter  #1-4)</td>\n",
       "      <td>J.K. Rowling-Mary GrandPré</td>\n",
       "      <td>4.67</td>\n",
       "      <td>0439434866</td>\n",
       "      <td>9780439434867</td>\n",
       "      <td>eng</td>\n",
       "      <td>1820</td>\n",
       "      <td>534</td>\n",
       "      <td>6</td>\n",
       "    </tr>\n",
       "    <tr>\n",
       "      <th>5295</th>\n",
       "      <td>15875</td>\n",
       "      <td>Harry Potter y la cámara secreta (Harry Potter...</td>\n",
       "      <td>J.K. Rowling</td>\n",
       "      <td>4.41</td>\n",
       "      <td>8498380138</td>\n",
       "      <td>9788498380132</td>\n",
       "      <td>spa</td>\n",
       "      <td>288</td>\n",
       "      <td>181</td>\n",
       "      <td>15</td>\n",
       "    </tr>\n",
       "    <tr>\n",
       "      <th>10540</th>\n",
       "      <td>34318</td>\n",
       "      <td>Harry Potter and the Sorcerer's Stone (Harry P...</td>\n",
       "      <td>J.K. Rowling-Mary GrandPré</td>\n",
       "      <td>4.47</td>\n",
       "      <td>0786222727</td>\n",
       "      <td>9780786222728</td>\n",
       "      <td>eng</td>\n",
       "      <td>424</td>\n",
       "      <td>132</td>\n",
       "      <td>12</td>\n",
       "    </tr>\n",
       "    <tr>\n",
       "      <th>1123</th>\n",
       "      <td>3357</td>\n",
       "      <td>Harry Potter Y La Piedra Filosofal (Harry Pott...</td>\n",
       "      <td>J.K. Rowling</td>\n",
       "      <td>4.47</td>\n",
       "      <td>0613359607</td>\n",
       "      <td>9780613359603</td>\n",
       "      <td>spa</td>\n",
       "      <td>254</td>\n",
       "      <td>84</td>\n",
       "      <td>5</td>\n",
       "    </tr>\n",
       "    <tr>\n",
       "      <th>12256</th>\n",
       "      <td>41911</td>\n",
       "      <td>Harry Potter und der Gefangene von Askaban (Ha...</td>\n",
       "      <td>J.K. Rowling</td>\n",
       "      <td>4.55</td>\n",
       "      <td>355155210X</td>\n",
       "      <td>9783551552105</td>\n",
       "      <td>ger</td>\n",
       "      <td>448</td>\n",
       "      <td>28</td>\n",
       "      <td>2</td>\n",
       "    </tr>\n",
       "    <tr>\n",
       "      <th>12253</th>\n",
       "      <td>41907</td>\n",
       "      <td>Harry Potter und die Kammer des Schreckens (Ha...</td>\n",
       "      <td>J.K. Rowling</td>\n",
       "      <td>4.41</td>\n",
       "      <td>3551552096</td>\n",
       "      <td>9783551552099</td>\n",
       "      <td>ger</td>\n",
       "      <td>351</td>\n",
       "      <td>25</td>\n",
       "      <td>1</td>\n",
       "    </tr>\n",
       "    <tr>\n",
       "      <th>12257</th>\n",
       "      <td>41912</td>\n",
       "      <td>Harry Potter ve Felsefe Taşı</td>\n",
       "      <td>J.K. Rowling</td>\n",
       "      <td>4.47</td>\n",
       "      <td>3570211010</td>\n",
       "      <td>9783570211014</td>\n",
       "      <td>tur</td>\n",
       "      <td>353</td>\n",
       "      <td>12</td>\n",
       "      <td>0</td>\n",
       "    </tr>\n",
       "    <tr>\n",
       "      <th>12660</th>\n",
       "      <td>43504</td>\n",
       "      <td>Harry Potter and the Philosopher's Stone (Harr...</td>\n",
       "      <td>J.K. Rowling</td>\n",
       "      <td>4.47</td>\n",
       "      <td>158234681X</td>\n",
       "      <td>9781582346816</td>\n",
       "      <td>gla</td>\n",
       "      <td>250</td>\n",
       "      <td>11</td>\n",
       "      <td>0</td>\n",
       "    </tr>\n",
       "  </tbody>\n",
       "</table>\n",
       "</div>"
      ],
      "text/plain": [
       "       bookID                                              title  \\\n",
       "2           3  Harry Potter and the Sorcerer's Stone (Harry P...   \n",
       "4           5  Harry Potter and the Prisoner of Azkaban (Harr...   \n",
       "5300    15881  Harry Potter and the Chamber of Secrets (Harry...   \n",
       "1           2  Harry Potter and the Order of the Phoenix (Har...   \n",
       "0           1  Harry Potter and the Half-Blood Prince (Harry ...   \n",
       "5           8  Harry Potter Boxed Set  Books 1-5 (Harry Potte...   \n",
       "7          10       Harry Potter Collection (Harry Potter  #1-6)   \n",
       "12663   43509  Harry Potter and the Goblet of Fire (Harry Pot...   \n",
       "693      2002  Harry Potter Schoolbooks Box Set: Two Classic ...   \n",
       "3           4  Harry Potter and the Chamber of Secrets (Harry...   \n",
       "13637   47532  Harry Potter y el prisionero de Azkaban (Harry...   \n",
       "5296    15876  Harry Potter y la Orden del Fénix (Harry Potte...   \n",
       "1429     4256  Harry Potter and the Prisoner of Azkaban (Harr...   \n",
       "695      2005  Harry Potter and the Half-Blood Prince (Harry ...   \n",
       "10519   34258  Harry Potter y la Orden del Fénix (Harry Potte...   \n",
       "13634   47523        Harry Potter Boxed Set (Harry Potter  #1-4)   \n",
       "5295    15875  Harry Potter y la cámara secreta (Harry Potter...   \n",
       "10540   34318  Harry Potter and the Sorcerer's Stone (Harry P...   \n",
       "1123     3357  Harry Potter Y La Piedra Filosofal (Harry Pott...   \n",
       "12256   41911  Harry Potter und der Gefangene von Askaban (Ha...   \n",
       "12253   41907  Harry Potter und die Kammer des Schreckens (Ha...   \n",
       "12257   41912                       Harry Potter ve Felsefe Taşı   \n",
       "12660   43504  Harry Potter and the Philosopher's Stone (Harr...   \n",
       "\n",
       "                          authors  avg_rating        isbn         isbn13  \\\n",
       "2      J.K. Rowling-Mary GrandPré        4.47  0439554934  9780439554930   \n",
       "4      J.K. Rowling-Mary GrandPré        4.55  043965548X  9780439655484   \n",
       "5300   J.K. Rowling-Mary GrandPré        4.41  0439064864  9780439064866   \n",
       "1      J.K. Rowling-Mary GrandPré        4.49  0439358078  9780439358071   \n",
       "0      J.K. Rowling-Mary GrandPré        4.56  0439785960  9780439785969   \n",
       "5      J.K. Rowling-Mary GrandPré        4.78  0439682584  9780439682589   \n",
       "7                    J.K. Rowling        4.73  0439827604  9780439827607   \n",
       "12663                J.K. Rowling        4.55  074754624X  9780747546245   \n",
       "693                  J.K. Rowling        4.40  043932162X  9780439321624   \n",
       "3                    J.K. Rowling        4.41  0439554896  9780439554893   \n",
       "13637                J.K. Rowling        4.55  8478886559  9788478886555   \n",
       "5296                 J.K. Rowling        4.49  8478888845  9788478888849   \n",
       "1429                 J.K. Rowling        4.55  074757362X  9780747573623   \n",
       "695                  J.K. Rowling        4.56  0747584664  9780747584667   \n",
       "10519                J.K. Rowling        4.49  8478887423  9788478887422   \n",
       "13634  J.K. Rowling-Mary GrandPré        4.67  0439434866  9780439434867   \n",
       "5295                 J.K. Rowling        4.41  8498380138  9788498380132   \n",
       "10540  J.K. Rowling-Mary GrandPré        4.47  0786222727  9780786222728   \n",
       "1123                 J.K. Rowling        4.47  0613359607  9780613359603   \n",
       "12256                J.K. Rowling        4.55  355155210X  9783551552105   \n",
       "12253                J.K. Rowling        4.41  3551552096  9783551552099   \n",
       "12257                J.K. Rowling        4.47  3570211010  9783570211014   \n",
       "12660                J.K. Rowling        4.47  158234681X  9781582346816   \n",
       "\n",
       "      lang_code  num_pages  ratings_count  text_reviews_count  \n",
       "2           eng        320        5629932               70390  \n",
       "4           eng        435        2149872               33964  \n",
       "5300        eng        341        2115562               32694  \n",
       "1           eng        870        1996446               27613  \n",
       "0           eng        652        1944099               26249  \n",
       "5           eng       2690          38872                 154  \n",
       "7           eng       3342          27410                 820  \n",
       "12663       eng        636          18097                 860  \n",
       "693         eng        240          11459                 143  \n",
       "3           eng        352           6267                 272  \n",
       "13637       spa        359           5582                 469  \n",
       "5296        spa        893           4893                 397  \n",
       "1429        eng        480           3116                 147  \n",
       "695         eng        768           1173                  72  \n",
       "10519       spa        896            953                  51  \n",
       "13634       eng       1820            534                   6  \n",
       "5295        spa        288            181                  15  \n",
       "10540       eng        424            132                  12  \n",
       "1123        spa        254             84                   5  \n",
       "12256       ger        448             28                   2  \n",
       "12253       ger        351             25                   1  \n",
       "12257       tur        353             12                   0  \n",
       "12660       gla        250             11                   0  "
      ]
     },
     "execution_count": 15,
     "metadata": {},
     "output_type": "execute_result"
    }
   ],
   "source": [
    "# find Harry Potter sequels\n",
    "df[(df['authors'] == 'J.K. Rowling-Mary GrandPré') | \n",
    "   (df['authors'] == 'J.K. Rowling')].sort_values(['ratings_count', 'text_reviews_count'], ascending=False)"
   ]
  },
  {
   "cell_type": "markdown",
   "metadata": {},
   "source": [
    "With the Harry Potter series, the first hypothesis seems more likely, especially given that the difference in rating counts between the two most rated books is a startling 3.5 million. "
   ]
  }
 ],
 "metadata": {
  "kernelspec": {
   "display_name": "Python 3",
   "language": "python",
   "name": "python3"
  },
  "language_info": {
   "codemirror_mode": {
    "name": "ipython",
    "version": 3
   },
   "file_extension": ".py",
   "mimetype": "text/x-python",
   "name": "python",
   "nbconvert_exporter": "python",
   "pygments_lexer": "ipython3",
   "version": "3.7.3"
  }
 },
 "nbformat": 4,
 "nbformat_minor": 1
}
